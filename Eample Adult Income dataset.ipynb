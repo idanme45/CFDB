{
 "cells": [
  {
   "cell_type": "code",
   "execution_count": 1,
   "id": "e88b5dd5",
   "metadata": {
    "pycharm": {
     "is_executing": true
    },
    "scrolled": true
   },
   "outputs": [],
   "source": [
    "import tqdm\n",
    "def nop(it, *a, **k):\n",
    "    return it\n",
    "\n",
    "tqdm.tqdm = nop\n",
    "from QUERYLANG import CFQL, Instances\n",
    "import queries\n",
    "from optimization import l0_metric \n",
    "\n",
    "from tqdm.notebook import tqdm as tqdm_notebook\n",
    "import pickle\n",
    "\n",
    "\n",
    "import warnings\n",
    "warnings.filterwarnings('ignore')"
   ]
  },
  {
   "cell_type": "markdown",
   "id": "7fcc22a6",
   "metadata": {},
   "source": [
    "# Load trained models"
   ]
  },
  {
   "cell_type": "code",
   "execution_count": 2,
   "id": "ed2c9ef1",
   "metadata": {},
   "outputs": [],
   "source": [
    "models = open('models/Adult Income/adult_models.pkl', 'rb')\n",
    "instances = open('Instances/Adult Income/adult_test_instances.pkl', 'rb')\n",
    "models = pickle.load(models)\n",
    "instances = pickle.load(instances)"
   ]
  },
  {
   "cell_type": "markdown",
   "id": "a547be07",
   "metadata": {},
   "source": [
    "# Init CfDB object "
   ]
  },
  {
   "cell_type": "code",
   "execution_count": 4,
   "id": "579608a7",
   "metadata": {},
   "outputs": [],
   "source": [
    "cfql = CFQL(instances, models)"
   ]
  },
  {
   "cell_type": "markdown",
   "id": "3a74201a",
   "metadata": {},
   "source": [
    "# False Positive predictions"
   ]
  },
  {
   "cell_type": "code",
   "execution_count": 5,
   "id": "d25adda4",
   "metadata": {},
   "outputs": [],
   "source": [
    "prediction_q = ''' \n",
    "SELECT T.PredictionId\n",
    "FROM (\n",
    "    SELECT Predictions.PredictionId , ROW_NUMBER() OVER(PARTITION BY Predictions.ClassifierId) AS rank\n",
    "    FROM Instances, Predictions\n",
    "    WHERE Instances.InstanceId = Predictions.InstanceId\n",
    "      AND Instances.income = 0 and  Predictions.Label = 1\n",
    "      AND Predictions.ClassifierId IN (0,1)) as T\n",
    "WHERE T.rank <= 5\n",
    "'''"
   ]
  },
  {
   "cell_type": "markdown",
   "id": "7d2c3dc0",
   "metadata": {},
   "source": [
    "## CounterFactual View"
   ]
  },
  {
   "cell_type": "code",
   "execution_count": null,
   "id": "2246e08f",
   "metadata": {},
   "outputs": [],
   "source": [
    "# counterfactuals that do not change the gender and  the race\n",
    "cfs_q = cfs_query=(queries.AND_NOT,{'features':['gender','race']})\n",
    "\n",
    "cfql.create_cfs_view(cf_type='GrowingSpheresCFs', prediction_query=prediction_q, cfs_query=cfs_q)\n",
    "cfql.create_cfs_view(cf_type='CecCFs', prediction_query=prediction_q, cfs_query=cfs_q)\n",
    "cfql.create_cfs_view(cf_type='DiverseCFs', prediction_query=prediction_q, cfs_query=cfs_q)"
   ]
  },
  {
   "cell_type": "markdown",
   "id": "6ee526ce",
   "metadata": {},
   "source": [
    "## Analysis: CF - L0"
   ]
  },
  {
   "cell_type": "code",
   "execution_count": null,
   "id": "1196b7a4",
   "metadata": {},
   "outputs": [],
   "source": [
    "suffix = 1\n",
    "Q = f''' \n",
    "SELECT ClassifierId, AVG(L0) as L0\n",
    "FROM (\n",
    "    SELECT ClassifierId, my_cfs_{suffix}.CfId , COUNT(*) AS L0\n",
    "    FROM  my_cfs_{suffix}, my_prediction_cfs_{suffix}, Predictions\n",
    "    WHERE my_cfs_{suffix}.CfId = my_prediction_cfs_{suffix}.CfId \n",
    "      AND my_prediction_cfs_{suffix}.PredictionId = Predictions.PredictionId\n",
    "      GROUP BY ClassifierId, my_cfs_{suffix}.CfId ) AS T\n",
    "GROUP BY ClassifierId\n",
    "'''\n",
    "\n",
    "df = cfql.execute(Q, parallel=False).replace({'ClassifierId':{0:'Random Forest', 1:'Linear'}})\n",
    "df.rename(columns = {'ClassifierId':'Classifier'})"
   ]
  },
  {
   "cell_type": "markdown",
   "id": "30612e4a",
   "metadata": {},
   "source": [
    "# CFs - highlight the difference"
   ]
  },
  {
   "cell_type": "code",
   "execution_count": null,
   "id": "08309076",
   "metadata": {},
   "outputs": [],
   "source": [
    "Q = f'''\n",
    "SELECT distinct CfId\n",
    "FROM my_cfs_{suffix}\n",
    "'''\n",
    "cf_ids = cfql.execute(Q,parallel=False).values.reshape(-1)\n",
    "cfql.reconstruct(cf_ids)"
   ]
  },
  {
   "cell_type": "markdown",
   "id": "44af9ad4",
   "metadata": {},
   "source": [
    "# EFFICIENT EVALUATION - for CeC and Random Forest"
   ]
  },
  {
   "cell_type": "code",
   "execution_count": null,
   "id": "76adaa50",
   "metadata": {},
   "outputs": [],
   "source": [
    "uniform_predictions='''\n",
    "SELECT * \n",
    "FROM (\n",
    "    SELECT *, ROW_NUMBER() OVER(partition by gender, race ORDER BY RANDOM() DESC) AS 'IdInGroup'\n",
    "    FROM Instances, Predictions\n",
    "    WHERE Instances.instanceId = Predictions.instanceId\n",
    "      AND Predictions.ClassifierId = 0\n",
    "      AND Predictions.Label = 0\n",
    "    ) AS T\n",
    "WHERE T.'IdInGroup'<=5\n",
    "'''"
   ]
  },
  {
   "cell_type": "code",
   "execution_count": null,
   "id": "984bef87",
   "metadata": {},
   "outputs": [],
   "source": [
    "# A query searching for CFs that do not modify the gender and race.\n",
    "cfs_not_and = cfs_query=(queries.NOT_AND,{'features':['gender','race']})\n",
    "\n",
    "cfql.create_cfs_view(cf_type='CecCFs', prediction_query=uniform_predictions, cfs_query=cfs_not_and)"
   ]
  },
  {
   "cell_type": "code",
   "execution_count": null,
   "id": "1d3f5f53",
   "metadata": {},
   "outputs": [],
   "source": [
    "Q = \"\"\" \n",
    "SELECT * FROM  my_cfs_4\n",
    "\"\"\"\n",
    "cfql.batch_execute(Q, metric=l0_metric, threshold=2)"
   ]
  },
  {
   "cell_type": "code",
   "execution_count": null,
   "id": "1e045890",
   "metadata": {},
   "outputs": [],
   "source": []
  }
 ],
 "metadata": {
  "kernelspec": {
   "display_name": "Python 3 (ipykernel)",
   "language": "python",
   "name": "python3"
  },
  "language_info": {
   "codemirror_mode": {
    "name": "ipython",
    "version": 3
   },
   "file_extension": ".py",
   "mimetype": "text/x-python",
   "name": "python",
   "nbconvert_exporter": "python",
   "pygments_lexer": "ipython3",
   "version": "3.9.7"
  }
 },
 "nbformat": 4,
 "nbformat_minor": 5
}